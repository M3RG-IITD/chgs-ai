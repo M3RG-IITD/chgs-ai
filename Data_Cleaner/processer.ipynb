{
 "cells": [
  {
   "cell_type": "markdown",
   "metadata": {},
   "source": [
    "### This notebook contains the code for data preprocessing before training and analysis "
   ]
  },
  {
   "cell_type": "markdown",
   "metadata": {},
   "source": [
    "# Import libraries"
   ]
  },
  {
   "cell_type": "code",
   "execution_count": 1,
   "metadata": {},
   "outputs": [],
   "source": [
    "import pandas as pd\n",
    "import numpy as np\n",
    "import pickle\n",
    "import re\n",
    "from os import listdir\n",
    "import os\n",
    "import sys\n",
    "import re\n",
    "import pandas as pd\n",
    "import numpy as np\n",
    "\n",
    "\n",
    "sys.path.insert(0, \"/Users/sayamsingla/Desktop/SURA/chalcogenide_glasses/scripts\")\n",
    "from utils_chalcogenides import *\n"
   ]
  },
  {
   "cell_type": "code",
   "execution_count": 2,
   "metadata": {},
   "outputs": [],
   "source": [
    "# composition names present in chalcogenide glasses\n",
    "\n",
    "import csv\n",
    "compounds = []\n",
    "with open('com_names.csv') as csv_file:\n",
    "    reader = csv.reader(csv_file, delimiter=',')\n",
    "    rows = list(reader)\n",
    "    \n",
    "    for i in (rows):\n",
    "        compounds.append(i[0])\n",
    "# compounds.append('Temp')\n"
   ]
  },
  {
   "cell_type": "markdown",
   "metadata": {},
   "source": [
    "# Reading Raw data"
   ]
  },
  {
   "cell_type": "code",
   "execution_count": 3,
   "metadata": {},
   "outputs": [],
   "source": [
    "# df1 = pd.read_csv('/Users/sayamsingla/Desktop/SURA/sura_code/machine_learning_glass/chalco/raw_data/newprops/tec_ig.csv')\n",
    "# df2 = pd.read_csv('/Users/sayamsingla/Desktop/SURA/sura_code/machine_learning_glass/chalco/raw_data/newprops/tec_sg.csv')\n",
    "# df3 = pd.read_csv('/Users/sayamsingla/Desktop/SURA/sura_code/machine_learning_glass/chalco/raw_data/newprops/1136_soft_ig.csv')\n",
    "# df4 = pd.read_csv('/Users/sayamsingla/Desktop/SURA/sura_code/machine_learning_glass/chalco/raw_data/newprops/softening_sg.csv')\n",
    "# df2 = pd.read_csv('/Users/sayamsingla/Desktop/SURA/sura_code/machine_learning_glass/chalco/raw_data/newprops/annealing_point_sg.csv')\n",
    "df1 = pd.read_csv('/Users/sayamsingla/Desktop/SURA/chalcogenide_glasses/molar/molar_Tg_1140.csv')\n",
    "df2 = pd.read_csv('/Users/sayamsingla/Desktop/SURA/chalcogenide_glasses/atomic/atomic_Tg.csv')"
   ]
  },
  {
   "cell_type": "code",
   "execution_count": 7,
   "metadata": {},
   "outputs": [],
   "source": [
    "prop_ = \"TG\"\n",
    "df1 = df1.rename(columns={\"PROP_FIG_SI\":prop_})\n",
    "df2 = df2.rename(columns={\"PROP_FIG_SI\":prop_})\n",
    "\n",
    "# df3 = df3.rename(columns={\"MOD_SDV\":prop_})\n",
    "# df4 = df4.rename(columns={\"PROP_FIG_SI\":prop_})\n",
    "# df5 = df5.rename(columns={\"PROP_FIG_SI\":prop_})\n",
    "# df3['Hardness_RT'] *= 10**9\n",
    "# if df1['PROP_UNIT_DESC_EN'] == 'S/m':\n",
    "# df2['electrical_conductivity'] = np.exp(df2['electrical_conductivity'])\n",
    "# df2['electrical_conductivity'] = 1/df2['electrical_conductivity'] \n",
    "\n",
    "\n",
    "# df1.loc[df1.PROP_UNIT_01 == 1, 'electrical_conductivity'] *= 10**2\n"
   ]
  },
  {
   "cell_type": "code",
   "execution_count": 8,
   "metadata": {},
   "outputs": [],
   "source": [
    "# Combining different raw data, removing duplicates\n",
    "\n",
    "df = pd.concat([df1, df2 ] , sort = False)\n",
    "col_list = df.columns.tolist()  \n",
    "col_list.remove(prop_) \n",
    "col_list = col_list + [prop_] # rearranging columns names\n",
    "df = df[col_list] "
   ]
  },
  {
   "cell_type": "code",
   "execution_count": 9,
   "metadata": {},
   "outputs": [],
   "source": [
    "# Rearranging columns \n",
    "a = df[prop_]\n",
    "df.drop(columns=[col for col in df if col not in compounds], inplace=True)\n",
    "df.insert(len(df.columns), prop_, a)\n",
    "df = df.fillna(0)"
   ]
  },
  {
   "cell_type": "markdown",
   "metadata": {},
   "source": [
    "# Creating element based dataset"
   ]
  },
  {
   "cell_type": "code",
   "execution_count": 10,
   "metadata": {},
   "outputs": [
    {
     "name": "stderr",
     "output_type": "stream",
     "text": [
      "/Users/sayamsingla/Desktop/SURA/chalcogenide_glasses/scripts/utils_chalcogenides.py:19: RuntimeWarning: Mean of empty slice.\n",
      "  return x[mask].mean()\n",
      "/Users/sayamsingla/anaconda3/lib/python3.7/site-packages/numpy/core/_methods.py:170: RuntimeWarning: invalid value encountered in double_scalars\n",
      "  ret = ret.dtype.type(ret / rcount)\n",
      "/Users/sayamsingla/Desktop/SURA/chalcogenide_glasses/scripts/utils_chalcogenides.py:19: RuntimeWarning: Mean of empty slice.\n",
      "  return x[mask].mean()\n",
      "/Users/sayamsingla/anaconda3/lib/python3.7/site-packages/numpy/core/_methods.py:170: RuntimeWarning: invalid value encountered in double_scalars\n",
      "  ret = ret.dtype.type(ret / rcount)\n"
     ]
    }
   ],
   "source": [
    "# creating element based dataset based on molar concentration, check util libraries for detail function information\n",
    "features = df.columns.values.tolist()\n",
    "features.remove(prop_) \n",
    "df = remove_duplicate(df) # removing duplicates\n",
    "d = df.to_dict(orient='records') # converting to dict\n",
    "final_dict , chem = create_chemicalDict(features, prop_) # check utils_chalcogenide\n",
    "df = data_creator(d,final_dict, chem, prop_) # check utils_chalcogenide\n",
    "df = remove_minSamples(df , 20 )  # check utils_chalcogenide"
   ]
  },
  {
   "cell_type": "code",
   "execution_count": 13,
   "metadata": {},
   "outputs": [],
   "source": [
    "df.to_csv('/Users/sayamsingla/Desktop/Github/TG.csv', index=False)\n"
   ]
  }
 ],
 "metadata": {
  "kernelspec": {
   "display_name": "Python 3",
   "language": "python",
   "name": "python3"
  },
  "language_info": {
   "codemirror_mode": {
    "name": "ipython",
    "version": 3
   },
   "file_extension": ".py",
   "mimetype": "text/x-python",
   "name": "python",
   "nbconvert_exporter": "python",
   "pygments_lexer": "ipython3",
   "version": "3.7.3"
  }
 },
 "nbformat": 4,
 "nbformat_minor": 5
}
