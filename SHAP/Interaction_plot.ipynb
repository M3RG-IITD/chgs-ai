{
 "cells": [
  {
   "cell_type": "markdown",
   "metadata": {},
   "source": [
    "<h3>Interaction plots"
   ]
  },
  {
   "cell_type": "markdown",
   "metadata": {},
   "source": [
    "<h3> Import Libraries"
   ]
  },
  {
   "cell_type": "code",
   "execution_count": 3,
   "metadata": {},
   "outputs": [],
   "source": [
    "from functools import partial\n",
    "import os\n",
    "import pandas as pd\n",
    "\n",
    "import json\n",
    "import numpy as np\n",
    "from xgboost import XGBRegressor\n",
    "from sklearn.metrics import mean_squared_error\n",
    "import pickle"
   ]
  },
  {
   "cell_type": "code",
   "execution_count": 2,
   "metadata": {
    "scrolled": true
   },
   "outputs": [
    {
     "name": "stderr",
     "output_type": "stream",
     "text": [
      "C:\\Users\\USER\\anaconda3\\lib\\_collections_abc.py:832: MatplotlibDeprecationWarning: \n",
      "The animation.avconv_args rcparam was deprecated in Matplotlib 3.3 and will be removed two minor releases later.\n",
      "  self[key] = other[key]\n",
      "C:\\Users\\USER\\anaconda3\\lib\\_collections_abc.py:832: MatplotlibDeprecationWarning: \n",
      "The animation.avconv_path rcparam was deprecated in Matplotlib 3.3 and will be removed two minor releases later.\n",
      "  self[key] = other[key]\n",
      "C:\\Users\\USER\\anaconda3\\lib\\_collections_abc.py:832: MatplotlibDeprecationWarning: \n",
      "The animation.html_args rcparam was deprecated in Matplotlib 3.3 and will be removed two minor releases later.\n",
      "  self[key] = other[key]\n",
      "C:\\Users\\USER\\anaconda3\\lib\\_collections_abc.py:832: MatplotlibDeprecationWarning: \n",
      "The keymap.all_axes rcparam was deprecated in Matplotlib 3.3 and will be removed two minor releases later.\n",
      "  self[key] = other[key]\n",
      "C:\\Users\\USER\\anaconda3\\lib\\_collections_abc.py:832: MatplotlibDeprecationWarning: \n",
      "The mathtext.fallback_to_cm rcparam was deprecated in Matplotlib 3.3 and will be removed two minor releases later.\n",
      "  self[key] = other[key]\n",
      "C:\\Users\\USER\\anaconda3\\lib\\_collections_abc.py:832: MatplotlibDeprecationWarning: Support for setting the 'mathtext.fallback_to_cm' rcParam is deprecated since 3.3 and will be removed two minor releases later; use 'mathtext.fallback : 'cm' instead.\n",
      "  self[key] = other[key]\n",
      "C:\\Users\\USER\\anaconda3\\lib\\_collections_abc.py:832: MatplotlibDeprecationWarning: \n",
      "The validate_bool_maybe_none function was deprecated in Matplotlib 3.3 and will be removed two minor releases later.\n",
      "  self[key] = other[key]\n",
      "C:\\Users\\USER\\anaconda3\\lib\\_collections_abc.py:832: MatplotlibDeprecationWarning: Support for setting the 'text.latex.preamble' or 'pgf.preamble' rcParam to a list of strings is deprecated since 3.3 and will be removed two minor releases later; set it to a single string instead.\n",
      "  self[key] = other[key]\n",
      "C:\\Users\\USER\\anaconda3\\lib\\_collections_abc.py:832: MatplotlibDeprecationWarning: \n",
      "The savefig.jpeg_quality rcparam was deprecated in Matplotlib 3.3 and will be removed two minor releases later.\n",
      "  self[key] = other[key]\n",
      "C:\\Users\\USER\\anaconda3\\lib\\_collections_abc.py:832: MatplotlibDeprecationWarning: \n",
      "The text.latex.preview rcparam was deprecated in Matplotlib 3.3 and will be removed two minor releases later.\n",
      "  self[key] = other[key]\n"
     ]
    }
   ],
   "source": [
    "from new_plot import *\n",
    "set_things()\n",
    "set_font()\n",
    "from sklearn.model_selection import train_test_split"
   ]
  },
  {
   "cell_type": "code",
   "execution_count": 3,
   "metadata": {},
   "outputs": [],
   "source": [
    "import matplotlib\n",
    "from matplotlib.colors import ListedColormap, LinearSegmentedColormap\n",
    "\n",
    "import copy\n",
    "\n",
    "colors = [\"white\", \"magenta\", \"brown\", \"darkgreen\"]\n",
    "nodes = [0.0, 0.2, 0.5, 1.0]\n",
    "cmap1 = LinearSegmentedColormap.from_list(\"mycmap\", list(zip(nodes, colors)))"
   ]
  },
  {
   "cell_type": "code",
   "execution_count": 4,
   "metadata": {},
   "outputs": [
    {
     "name": "stdout",
     "output_type": "stream",
     "text": [
      "Imports ^\n",
      "Definitions ^\n"
     ]
    },
    {
     "name": "stderr",
     "output_type": "stream",
     "text": [
      "\n",
      "The createFontList function was deprecated in Matplotlib 3.2 and will be removed two minor releases later. Use FontManager.addfont instead.\n"
     ]
    }
   ],
   "source": [
    "from shap_tools import *"
   ]
  },
  {
   "cell_type": "markdown",
   "metadata": {},
   "source": [
    "<h3> Reading property data"
   ]
  },
  {
   "cell_type": "code",
   "execution_count": 5,
   "metadata": {},
   "outputs": [],
   "source": [
    "propfilename ='Hardness_RT'\n",
    "prop = 'Hardness_RT'"
   ]
  },
  {
   "cell_type": "code",
   "execution_count": 6,
   "metadata": {},
   "outputs": [],
   "source": [
    "df = pd.read_csv(propfilename+'.csv')\n",
    "data = df.values\n",
    "X_features = data[:,0:-1]\n",
    "Y_properties = data[:,-1]\n",
    "\n",
    "sa = df.columns.values.tolist()\n",
    "sa.remove(prop)\n",
    "a10 = sa\n",
    "\n",
    "X_train,X_test,Y_train,Y_test = train_test_split(X_features,Y_properties,test_size=0.2, random_state=42)\n",
    "\n",
    "np.savetxt('00_Pipeline_P1_Node_train_test_split_train_split_X.csv', X_train, delimiter = \",\")\n",
    "np.savetxt('00_Pipeline_P1_Node_train_test_split_test_split_X.csv', X_test, delimiter = \",\")\n",
    "np.savetxt('00_Pipeline_P1_Node_train_test_split_train_split_y.csv', Y_train, delimiter = \",\")\n",
    "np.savetxt('00_Pipeline_P1_Node_train_test_split_test_split_y.csv', Y_test, delimiter = \",\")"
   ]
  },
  {
   "cell_type": "code",
   "execution_count": 7,
   "metadata": {},
   "outputs": [],
   "source": [
    "xtrain='00_Pipeline_P1_Node_train_test_split_train_split_X.csv'\n",
    "xtest='00_Pipeline_P1_Node_train_test_split_test_split_X.csv'\n",
    "\n",
    "ytrain='00_Pipeline_P1_Node_train_test_split_train_split_y.csv'\n",
    "ytest='00_Pipeline_P1_Node_train_test_split_test_split_y.csv'"
   ]
  },
  {
   "cell_type": "code",
   "execution_count": 8,
   "metadata": {},
   "outputs": [],
   "source": [
    "def lo(file):\n",
    "\n",
    "    \"\"\"\n",
    "    folder=path where input files are stored\n",
    "    file=name of file to be read\n",
    "    \n",
    "    \"\"\"\n",
    "    #path = os.path.join(folder,file)\n",
    "    df = pd.read_csv(file)\n",
    "    return df"
   ]
  },
  {
   "cell_type": "code",
   "execution_count": 9,
   "metadata": {},
   "outputs": [],
   "source": [
    "dxtrain = lo(xtrain)\n",
    "dytrain = lo(ytrain)\n",
    "\n",
    "dxtest = lo(xtest)\n",
    "dytest = lo(ytest)"
   ]
  },
  {
   "cell_type": "code",
   "execution_count": 10,
   "metadata": {},
   "outputs": [],
   "source": [
    "#Decreasing order of Interaction, currently manually done but can just read file and do it\n",
    "descending = ['Cu',\n",
    " 'Ge',\n",
    " 'As',\n",
    " 'Fe',\n",
    " 'Se',\n",
    " 'Ni',\n",
    " 'S',\n",
    " 'Te',\n",
    " 'Ga',\n",
    " 'B',\n",
    " 'Zr',\n",
    " 'P',\n",
    " 'Tl',\n",
    " 'Cd',\n",
    " 'Si',\n",
    " 'Sb',\n",
    " 'Ba',\n",
    " 'Pb',\n",
    " 'Al',\n",
    " 'Zn',\n",
    " 'In',\n",
    " 'Sn',\n",
    " 'Nb',\n",
    " 'Ti',\n",
    " 'La',\n",
    " 'Bi',\n",
    " 'C',\n",
    " 'Y',\n",
    " 'Co',\n",
    " 'Hg',\n",
    " 'Mo',\n",
    " 'Mg',\n",
    " 'Ho']"
   ]
  },
  {
   "cell_type": "code",
   "execution_count": 11,
   "metadata": {
    "scrolled": false
   },
   "outputs": [
    {
     "name": "stderr",
     "output_type": "stream",
     "text": [
      "findfont: Font family ['cursive'] not found. Falling back to DejaVu Sans.\n"
     ]
    },
    {
     "data": {
      "image/png": "[encoded data removed]",
      "text/plain": [
       "<Figure size 432x432 with 2 Axes>"
      ]
     },
     "metadata": {},
     "output_type": "display_data"
    }
   ],
   "source": [
    "folder_name = ''\n",
    "colors = [\"white\", \"magenta\", \"brown\", \"darkgreen\"]\n",
    "nodes = [0.0, 0.2, 0.5, 1.0]\n",
    "cmap1 = LinearSegmentedColormap.from_list(\"mycmap\", list(zip(nodes, colors)))\n",
    "\n",
    "y = dytrain\n",
    "X = dxtrain\n",
    "X.columns =X.columns.tolist()\n",
    "top=20\n",
    "if top>X.shape[1]:\n",
    "    top = X.shape[1]\n",
    "#ivs_file = \"IVS/{}_ivs.pkl\".format(prop)\n",
    "ivs = loadfile(propfilename+'_ivs.pkl')\n",
    "mean = 0#np.mean(y)\n",
    "std = 1#np.std(y)\n",
    "N = ivs.shape[0]\n",
    "X = X.iloc[:N]\n",
    "y = y[:N]\n",
    "\n",
    "vs = ivs.sum(2)\n",
    "\n",
    "IVS = np.abs(ivs).mean(0)\n",
    "IVS[np.diag_indices_from(IVS)] = 0  # diagonal matrix zero \n",
    "VS = np.abs(ivs.sum(2)).mean(0)\n",
    "\n",
    "mask_top = np.argsort(np.abs(VS[:-1]))[::-1][:top] \n",
    "\n",
    "data_ = IVS[:-1,:-1]\n",
    "data_ = data_[:, mask_top]\n",
    "data_ = data_[mask_top, :]\n",
    "data_ /= data_.max()\n",
    "#print(IVS)\n",
    "set_tick('off')\n",
    "fig, ax = plt.subplots()\n",
    "# plt.title(prop_names[prop], verticalalignment='bottom')\n",
    "cb = plt.imshow(data_, cmap=cmap1, vmin=0)\n",
    "plt.grid('on', color=\"gray\", ls=\"--\", which=\"minor\", alpha=1.)\n",
    "#decending--> List of elements with descending values\n",
    "if len(descending)>=20:\n",
    "    descending = descending[:20]\n",
    "comps =[i for i in descending]\n",
    "#comps.append(' ')#[mask_top]]# [fix_comp2(i) for i in X.columns[mask_top]] #df\n",
    "yticks(range(len(data_)), labels=comps, size=12)\n",
    "xticks(range(len(data_)), labels=comps, size=12, rotation=90)\n",
    "\n",
    "# yticks(range(len(data_)), labels=comps[:-1], size=12)\n",
    "# xticks(range(len(data_)), labels=comps[:-1], size=12, rotation=90)\n",
    "\n",
    "\n",
    "\n",
    "from mpl_toolkits.axes_grid1 import make_axes_locatable\n",
    "divider = make_axes_locatable(ax)\n",
    "cax = divider.append_axes(\"right\", size=\"5%\", pad=0.1)\n",
    "plt.colorbar(cb, cax=cax, label=\"Normalised interaction value\")\n",
    "#ax.set_title(prop)\n",
    "#plt.savefig(prop+'_interaction_plot.png', dpi=1200)\n",
    "plt.show()\n",
    "# save2file(\"IVS/{}_ivs.pfig\".format(prop), fig)"
   ]
  },
  {
   "cell_type": "code",
   "execution_count": null,
   "metadata": {},
   "outputs": [],
   "source": []
  }
 ],
 "metadata": {
  "kernelspec": {
   "display_name": "Python 3",
   "language": "python",
   "name": "python3"
  },
  "language_info": {
   "codemirror_mode": {
    "name": "ipython",
    "version": 3
   },
   "file_extension": ".py",
   "mimetype": "text/x-python",
   "name": "python",
   "nbconvert_exporter": "python",
   "pygments_lexer": "ipython3",
   "version": "3.7.3"
  }
 },
 "nbformat": 4,
 "nbformat_minor": 4
}
